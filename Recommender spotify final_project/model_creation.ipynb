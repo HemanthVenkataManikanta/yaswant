{
 "cells": [
  {
   "cell_type": "code",
   "execution_count": 2,
   "metadata": {},
   "outputs": [],
   "source": [
    "import pandas as pd\n",
    "import numpy as np\n",
    "import seaborn as sns\n",
    "import matplotlib.pyplot as plt\n",
    "import matplotlib.ticker as plticker\n",
    "from imblearn.over_sampling import SMOTE\n",
    "%matplotlib inline"
   ]
  },
  {
   "cell_type": "code",
   "execution_count": 3,
   "metadata": {},
   "outputs": [],
   "source": [
    "df = pd.read_csv('encoded_playlist_songs.csv')\n",
    "df_fav = pd.read_csv('favorite_songs.csv')"
   ]
  },
  {
   "cell_type": "markdown",
   "metadata": {},
   "source": [
    "### Preparing data for model"
   ]
  },
  {
   "cell_type": "code",
   "execution_count": 4,
   "metadata": {},
   "outputs": [
    {
     "data": {
      "text/plain": [
       "(8933, 13)"
      ]
     },
     "execution_count": 4,
     "metadata": {},
     "output_type": "execute_result"
    }
   ],
   "source": [
    "# Remove song name, artist, album\n",
    "df = pd.concat([df, df_fav], axis=0)\n",
    "df.shape"
   ]
  },
  {
   "cell_type": "code",
   "execution_count": 5,
   "metadata": {},
   "outputs": [
    {
     "data": {
      "text/html": [
       "<div>\n",
       "<style scoped>\n",
       "    .dataframe tbody tr th:only-of-type {\n",
       "        vertical-align: middle;\n",
       "    }\n",
       "\n",
       "    .dataframe tbody tr th {\n",
       "        vertical-align: top;\n",
       "    }\n",
       "\n",
       "    .dataframe thead th {\n",
       "        text-align: right;\n",
       "    }\n",
       "</style>\n",
       "<table border=\"1\" class=\"dataframe\">\n",
       "  <thead>\n",
       "    <tr style=\"text-align: right;\">\n",
       "      <th></th>\n",
       "      <th>track_id</th>\n",
       "      <th>length</th>\n",
       "      <th>popularity</th>\n",
       "      <th>danceability</th>\n",
       "      <th>acousticness</th>\n",
       "      <th>energy</th>\n",
       "      <th>instrumentalness</th>\n",
       "      <th>liveness</th>\n",
       "      <th>loudness</th>\n",
       "      <th>speechiness</th>\n",
       "      <th>tempo</th>\n",
       "      <th>time_signature</th>\n",
       "      <th>favorite</th>\n",
       "    </tr>\n",
       "  </thead>\n",
       "  <tbody>\n",
       "    <tr>\n",
       "      <th>0</th>\n",
       "      <td>7MAibcTli4IisCtbHKrGMh</td>\n",
       "      <td>242096</td>\n",
       "      <td>90</td>\n",
       "      <td>0.586</td>\n",
       "      <td>0.1820</td>\n",
       "      <td>0.616</td>\n",
       "      <td>0.000000</td>\n",
       "      <td>0.0927</td>\n",
       "      <td>-7.964</td>\n",
       "      <td>0.0324</td>\n",
       "      <td>148.088</td>\n",
       "      <td>4</td>\n",
       "      <td>0</td>\n",
       "    </tr>\n",
       "    <tr>\n",
       "      <th>1</th>\n",
       "      <td>5QO79kh1waicV47BqGRL3g</td>\n",
       "      <td>215626</td>\n",
       "      <td>97</td>\n",
       "      <td>0.680</td>\n",
       "      <td>0.0212</td>\n",
       "      <td>0.826</td>\n",
       "      <td>0.000012</td>\n",
       "      <td>0.5430</td>\n",
       "      <td>-5.487</td>\n",
       "      <td>0.0309</td>\n",
       "      <td>118.051</td>\n",
       "      <td>4</td>\n",
       "      <td>0</td>\n",
       "    </tr>\n",
       "    <tr>\n",
       "      <th>2</th>\n",
       "      <td>1diS6nkxMQc3wwC4G1j0bh</td>\n",
       "      <td>165506</td>\n",
       "      <td>88</td>\n",
       "      <td>0.722</td>\n",
       "      <td>0.0319</td>\n",
       "      <td>0.588</td>\n",
       "      <td>0.000000</td>\n",
       "      <td>0.1830</td>\n",
       "      <td>-5.932</td>\n",
       "      <td>0.0544</td>\n",
       "      <td>134.010</td>\n",
       "      <td>4</td>\n",
       "      <td>0</td>\n",
       "    </tr>\n",
       "    <tr>\n",
       "      <th>3</th>\n",
       "      <td>4u4NyuceXP7Uzh7XFJKCr1</td>\n",
       "      <td>170813</td>\n",
       "      <td>89</td>\n",
       "      <td>0.658</td>\n",
       "      <td>0.0106</td>\n",
       "      <td>0.634</td>\n",
       "      <td>0.000000</td>\n",
       "      <td>0.1320</td>\n",
       "      <td>-5.797</td>\n",
       "      <td>0.0413</td>\n",
       "      <td>139.980</td>\n",
       "      <td>4</td>\n",
       "      <td>0</td>\n",
       "    </tr>\n",
       "    <tr>\n",
       "      <th>4</th>\n",
       "      <td>3Ofmpyhv5UAQ70mENzB277</td>\n",
       "      <td>132780</td>\n",
       "      <td>94</td>\n",
       "      <td>0.778</td>\n",
       "      <td>0.1750</td>\n",
       "      <td>0.695</td>\n",
       "      <td>0.000000</td>\n",
       "      <td>0.1500</td>\n",
       "      <td>-6.865</td>\n",
       "      <td>0.0913</td>\n",
       "      <td>149.996</td>\n",
       "      <td>4</td>\n",
       "      <td>0</td>\n",
       "    </tr>\n",
       "  </tbody>\n",
       "</table>\n",
       "</div>"
      ],
      "text/plain": [
       "                 track_id  length  popularity  danceability  acousticness  \\\n",
       "0  7MAibcTli4IisCtbHKrGMh  242096          90         0.586        0.1820   \n",
       "1  5QO79kh1waicV47BqGRL3g  215626          97         0.680        0.0212   \n",
       "2  1diS6nkxMQc3wwC4G1j0bh  165506          88         0.722        0.0319   \n",
       "3  4u4NyuceXP7Uzh7XFJKCr1  170813          89         0.658        0.0106   \n",
       "4  3Ofmpyhv5UAQ70mENzB277  132780          94         0.778        0.1750   \n",
       "\n",
       "   energy  instrumentalness  liveness  loudness  speechiness    tempo  \\\n",
       "0   0.616          0.000000    0.0927    -7.964       0.0324  148.088   \n",
       "1   0.826          0.000012    0.5430    -5.487       0.0309  118.051   \n",
       "2   0.588          0.000000    0.1830    -5.932       0.0544  134.010   \n",
       "3   0.634          0.000000    0.1320    -5.797       0.0413  139.980   \n",
       "4   0.695          0.000000    0.1500    -6.865       0.0913  149.996   \n",
       "\n",
       "   time_signature  favorite  \n",
       "0               4         0  \n",
       "1               4         0  \n",
       "2               4         0  \n",
       "3               4         0  \n",
       "4               4         0  "
      ]
     },
     "execution_count": 5,
     "metadata": {},
     "output_type": "execute_result"
    }
   ],
   "source": [
    "df.head()"
   ]
  },
  {
   "cell_type": "code",
   "execution_count": 6,
   "metadata": {},
   "outputs": [
    {
     "data": {
      "text/plain": [
       "0    8883\n",
       "1      50\n",
       "Name: favorite, dtype: int64"
      ]
     },
     "execution_count": 6,
     "metadata": {},
     "output_type": "execute_result"
    }
   ],
   "source": [
    "df['favorite'].value_counts()"
   ]
  },
  {
   "cell_type": "markdown",
   "metadata": {},
   "source": [
    "# Data Prep Contd, Model Selection & Hyperparameter Tuning"
   ]
  },
  {
   "cell_type": "code",
   "execution_count": 7,
   "metadata": {},
   "outputs": [],
   "source": [
    "# Importing required libraries\n",
    "import sklearn\n",
    "from sklearn.pipeline import Pipeline\n",
    "from sklearn.model_selection import cross_val_score\n",
    "from sklearn.model_selection import train_test_split\n",
    "from sklearn.model_selection import GridSearchCV\n",
    "from sklearn.metrics import plot_confusion_matrix\n",
    "from sklearn import metrics \n",
    "from sklearn.metrics import f1_score\n",
    "# Models\n",
    "from sklearn.ensemble import RandomForestClassifier\n",
    "from sklearn.linear_model import LogisticRegression \n",
    "from sklearn.tree import DecisionTreeClassifier"
   ]
  },
  {
   "cell_type": "markdown",
   "metadata": {},
   "source": [
    "## Creating train & test sets"
   ]
  },
  {
   "cell_type": "code",
   "execution_count": 8,
   "metadata": {},
   "outputs": [],
   "source": [
    "# Shuffle your dataset \n",
    "shuffle_df = df.sample(frac=1)\n",
    "\n",
    "# Define a size for your train set \n",
    "train_size = int(0.8 * len(df))\n",
    "\n",
    "# Split dataset \n",
    "train_set = shuffle_df[:train_size]\n",
    "test_set = shuffle_df[train_size:]"
   ]
  },
  {
   "cell_type": "code",
   "execution_count": 9,
   "metadata": {},
   "outputs": [
    {
     "data": {
      "text/html": [
       "<div>\n",
       "<style scoped>\n",
       "    .dataframe tbody tr th:only-of-type {\n",
       "        vertical-align: middle;\n",
       "    }\n",
       "\n",
       "    .dataframe tbody tr th {\n",
       "        vertical-align: top;\n",
       "    }\n",
       "\n",
       "    .dataframe thead th {\n",
       "        text-align: right;\n",
       "    }\n",
       "</style>\n",
       "<table border=\"1\" class=\"dataframe\">\n",
       "  <thead>\n",
       "    <tr style=\"text-align: right;\">\n",
       "      <th></th>\n",
       "      <th>track_id</th>\n",
       "      <th>length</th>\n",
       "      <th>popularity</th>\n",
       "      <th>danceability</th>\n",
       "      <th>acousticness</th>\n",
       "      <th>energy</th>\n",
       "      <th>instrumentalness</th>\n",
       "      <th>liveness</th>\n",
       "      <th>loudness</th>\n",
       "      <th>speechiness</th>\n",
       "      <th>tempo</th>\n",
       "      <th>time_signature</th>\n",
       "      <th>favorite</th>\n",
       "    </tr>\n",
       "  </thead>\n",
       "  <tbody>\n",
       "    <tr>\n",
       "      <th>4292</th>\n",
       "      <td>4dlh921u5Ojn59FK2TOC24</td>\n",
       "      <td>148680</td>\n",
       "      <td>32</td>\n",
       "      <td>0.464</td>\n",
       "      <td>0.38800</td>\n",
       "      <td>0.222</td>\n",
       "      <td>0.000000</td>\n",
       "      <td>0.125</td>\n",
       "      <td>-11.977</td>\n",
       "      <td>0.0501</td>\n",
       "      <td>77.133</td>\n",
       "      <td>4</td>\n",
       "      <td>0</td>\n",
       "    </tr>\n",
       "    <tr>\n",
       "      <th>3953</th>\n",
       "      <td>0IIn18QlxCeUpLPRaR6a7K</td>\n",
       "      <td>199680</td>\n",
       "      <td>65</td>\n",
       "      <td>0.779</td>\n",
       "      <td>0.56100</td>\n",
       "      <td>0.714</td>\n",
       "      <td>0.012900</td>\n",
       "      <td>0.112</td>\n",
       "      <td>-6.707</td>\n",
       "      <td>0.0949</td>\n",
       "      <td>89.973</td>\n",
       "      <td>4</td>\n",
       "      <td>0</td>\n",
       "    </tr>\n",
       "    <tr>\n",
       "      <th>3441</th>\n",
       "      <td>0158TMiGmHyibaDeaUKayX</td>\n",
       "      <td>209253</td>\n",
       "      <td>63</td>\n",
       "      <td>0.635</td>\n",
       "      <td>0.00643</td>\n",
       "      <td>0.758</td>\n",
       "      <td>0.000000</td>\n",
       "      <td>0.229</td>\n",
       "      <td>-5.772</td>\n",
       "      <td>0.0243</td>\n",
       "      <td>113.002</td>\n",
       "      <td>4</td>\n",
       "      <td>0</td>\n",
       "    </tr>\n",
       "    <tr>\n",
       "      <th>3945</th>\n",
       "      <td>0rvxWzdAmOr6hzBPyLxFvR</td>\n",
       "      <td>181800</td>\n",
       "      <td>55</td>\n",
       "      <td>0.779</td>\n",
       "      <td>0.03020</td>\n",
       "      <td>0.790</td>\n",
       "      <td>0.000134</td>\n",
       "      <td>0.109</td>\n",
       "      <td>-4.778</td>\n",
       "      <td>0.1110</td>\n",
       "      <td>112.941</td>\n",
       "      <td>4</td>\n",
       "      <td>0</td>\n",
       "    </tr>\n",
       "    <tr>\n",
       "      <th>4450</th>\n",
       "      <td>5W3Y5I9y5ps6M6rl09e7zg</td>\n",
       "      <td>521693</td>\n",
       "      <td>54</td>\n",
       "      <td>0.865</td>\n",
       "      <td>0.08320</td>\n",
       "      <td>0.394</td>\n",
       "      <td>0.002310</td>\n",
       "      <td>0.302</td>\n",
       "      <td>-12.235</td>\n",
       "      <td>0.0528</td>\n",
       "      <td>115.936</td>\n",
       "      <td>4</td>\n",
       "      <td>0</td>\n",
       "    </tr>\n",
       "  </tbody>\n",
       "</table>\n",
       "</div>"
      ],
      "text/plain": [
       "                    track_id  length  popularity  danceability  acousticness  \\\n",
       "4292  4dlh921u5Ojn59FK2TOC24  148680          32         0.464       0.38800   \n",
       "3953  0IIn18QlxCeUpLPRaR6a7K  199680          65         0.779       0.56100   \n",
       "3441  0158TMiGmHyibaDeaUKayX  209253          63         0.635       0.00643   \n",
       "3945  0rvxWzdAmOr6hzBPyLxFvR  181800          55         0.779       0.03020   \n",
       "4450  5W3Y5I9y5ps6M6rl09e7zg  521693          54         0.865       0.08320   \n",
       "\n",
       "      energy  instrumentalness  liveness  loudness  speechiness    tempo  \\\n",
       "4292   0.222          0.000000     0.125   -11.977       0.0501   77.133   \n",
       "3953   0.714          0.012900     0.112    -6.707       0.0949   89.973   \n",
       "3441   0.758          0.000000     0.229    -5.772       0.0243  113.002   \n",
       "3945   0.790          0.000134     0.109    -4.778       0.1110  112.941   \n",
       "4450   0.394          0.002310     0.302   -12.235       0.0528  115.936   \n",
       "\n",
       "      time_signature  favorite  \n",
       "4292               4         0  \n",
       "3953               4         0  \n",
       "3441               4         0  \n",
       "3945               4         0  \n",
       "4450               4         0  "
      ]
     },
     "execution_count": 9,
     "metadata": {},
     "output_type": "execute_result"
    }
   ],
   "source": [
    "train_set.head()"
   ]
  },
  {
   "cell_type": "code",
   "execution_count": 10,
   "metadata": {},
   "outputs": [
    {
     "data": {
      "text/html": [
       "<div>\n",
       "<style scoped>\n",
       "    .dataframe tbody tr th:only-of-type {\n",
       "        vertical-align: middle;\n",
       "    }\n",
       "\n",
       "    .dataframe tbody tr th {\n",
       "        vertical-align: top;\n",
       "    }\n",
       "\n",
       "    .dataframe thead th {\n",
       "        text-align: right;\n",
       "    }\n",
       "</style>\n",
       "<table border=\"1\" class=\"dataframe\">\n",
       "  <thead>\n",
       "    <tr style=\"text-align: right;\">\n",
       "      <th></th>\n",
       "      <th>length</th>\n",
       "      <th>popularity</th>\n",
       "      <th>danceability</th>\n",
       "      <th>acousticness</th>\n",
       "      <th>energy</th>\n",
       "      <th>instrumentalness</th>\n",
       "      <th>liveness</th>\n",
       "      <th>loudness</th>\n",
       "      <th>speechiness</th>\n",
       "      <th>tempo</th>\n",
       "      <th>time_signature</th>\n",
       "    </tr>\n",
       "  </thead>\n",
       "  <tbody>\n",
       "    <tr>\n",
       "      <th>4292</th>\n",
       "      <td>148680</td>\n",
       "      <td>32</td>\n",
       "      <td>0.464</td>\n",
       "      <td>0.38800</td>\n",
       "      <td>0.222</td>\n",
       "      <td>0.000000</td>\n",
       "      <td>0.125</td>\n",
       "      <td>-11.977</td>\n",
       "      <td>0.0501</td>\n",
       "      <td>77.133</td>\n",
       "      <td>4</td>\n",
       "    </tr>\n",
       "    <tr>\n",
       "      <th>3953</th>\n",
       "      <td>199680</td>\n",
       "      <td>65</td>\n",
       "      <td>0.779</td>\n",
       "      <td>0.56100</td>\n",
       "      <td>0.714</td>\n",
       "      <td>0.012900</td>\n",
       "      <td>0.112</td>\n",
       "      <td>-6.707</td>\n",
       "      <td>0.0949</td>\n",
       "      <td>89.973</td>\n",
       "      <td>4</td>\n",
       "    </tr>\n",
       "    <tr>\n",
       "      <th>3441</th>\n",
       "      <td>209253</td>\n",
       "      <td>63</td>\n",
       "      <td>0.635</td>\n",
       "      <td>0.00643</td>\n",
       "      <td>0.758</td>\n",
       "      <td>0.000000</td>\n",
       "      <td>0.229</td>\n",
       "      <td>-5.772</td>\n",
       "      <td>0.0243</td>\n",
       "      <td>113.002</td>\n",
       "      <td>4</td>\n",
       "    </tr>\n",
       "    <tr>\n",
       "      <th>3945</th>\n",
       "      <td>181800</td>\n",
       "      <td>55</td>\n",
       "      <td>0.779</td>\n",
       "      <td>0.03020</td>\n",
       "      <td>0.790</td>\n",
       "      <td>0.000134</td>\n",
       "      <td>0.109</td>\n",
       "      <td>-4.778</td>\n",
       "      <td>0.1110</td>\n",
       "      <td>112.941</td>\n",
       "      <td>4</td>\n",
       "    </tr>\n",
       "    <tr>\n",
       "      <th>4450</th>\n",
       "      <td>521693</td>\n",
       "      <td>54</td>\n",
       "      <td>0.865</td>\n",
       "      <td>0.08320</td>\n",
       "      <td>0.394</td>\n",
       "      <td>0.002310</td>\n",
       "      <td>0.302</td>\n",
       "      <td>-12.235</td>\n",
       "      <td>0.0528</td>\n",
       "      <td>115.936</td>\n",
       "      <td>4</td>\n",
       "    </tr>\n",
       "  </tbody>\n",
       "</table>\n",
       "</div>"
      ],
      "text/plain": [
       "      length  popularity  danceability  acousticness  energy  \\\n",
       "4292  148680          32         0.464       0.38800   0.222   \n",
       "3953  199680          65         0.779       0.56100   0.714   \n",
       "3441  209253          63         0.635       0.00643   0.758   \n",
       "3945  181800          55         0.779       0.03020   0.790   \n",
       "4450  521693          54         0.865       0.08320   0.394   \n",
       "\n",
       "      instrumentalness  liveness  loudness  speechiness    tempo  \\\n",
       "4292          0.000000     0.125   -11.977       0.0501   77.133   \n",
       "3953          0.012900     0.112    -6.707       0.0949   89.973   \n",
       "3441          0.000000     0.229    -5.772       0.0243  113.002   \n",
       "3945          0.000134     0.109    -4.778       0.1110  112.941   \n",
       "4450          0.002310     0.302   -12.235       0.0528  115.936   \n",
       "\n",
       "      time_signature  \n",
       "4292               4  \n",
       "3953               4  \n",
       "3441               4  \n",
       "3945               4  \n",
       "4450               4  "
      ]
     },
     "execution_count": 10,
     "metadata": {},
     "output_type": "execute_result"
    }
   ],
   "source": [
    "X = train_set.drop(columns=['favorite', 'track_id'])\n",
    "y = train_set.favorite\n",
    "\n",
    "X.head()"
   ]
  },
  {
   "cell_type": "code",
   "execution_count": 11,
   "metadata": {},
   "outputs": [
    {
     "data": {
      "text/plain": [
       "0    7103\n",
       "1      43\n",
       "Name: favorite, dtype: int64"
      ]
     },
     "execution_count": 11,
     "metadata": {},
     "output_type": "execute_result"
    }
   ],
   "source": [
    "# Checking for imbalance\n",
    "y.value_counts()"
   ]
  },
  {
   "cell_type": "markdown",
   "metadata": {},
   "source": [
    "Since the number of favorite songs is so little compared to non-favorite songs, I decided to oversample the favorite class to train a classificaiton model on. "
   ]
  },
  {
   "cell_type": "code",
   "execution_count": 12,
   "metadata": {},
   "outputs": [],
   "source": [
    "# Train / Split Data\n",
    "oversample = SMOTE()\n",
    "X_train, y_train = oversample.fit_resample(X, y) "
   ]
  },
  {
   "cell_type": "code",
   "execution_count": 13,
   "metadata": {},
   "outputs": [
    {
     "data": {
      "text/html": [
       "<div>\n",
       "<style scoped>\n",
       "    .dataframe tbody tr th:only-of-type {\n",
       "        vertical-align: middle;\n",
       "    }\n",
       "\n",
       "    .dataframe tbody tr th {\n",
       "        vertical-align: top;\n",
       "    }\n",
       "\n",
       "    .dataframe thead th {\n",
       "        text-align: right;\n",
       "    }\n",
       "</style>\n",
       "<table border=\"1\" class=\"dataframe\">\n",
       "  <thead>\n",
       "    <tr style=\"text-align: right;\">\n",
       "      <th></th>\n",
       "      <th>length</th>\n",
       "      <th>popularity</th>\n",
       "      <th>danceability</th>\n",
       "      <th>acousticness</th>\n",
       "      <th>energy</th>\n",
       "      <th>instrumentalness</th>\n",
       "      <th>liveness</th>\n",
       "      <th>loudness</th>\n",
       "      <th>speechiness</th>\n",
       "      <th>tempo</th>\n",
       "      <th>time_signature</th>\n",
       "    </tr>\n",
       "  </thead>\n",
       "  <tbody>\n",
       "    <tr>\n",
       "      <th>0</th>\n",
       "      <td>148680</td>\n",
       "      <td>32</td>\n",
       "      <td>0.464</td>\n",
       "      <td>0.38800</td>\n",
       "      <td>0.222</td>\n",
       "      <td>0.000000</td>\n",
       "      <td>0.125</td>\n",
       "      <td>-11.977</td>\n",
       "      <td>0.0501</td>\n",
       "      <td>77.133</td>\n",
       "      <td>4</td>\n",
       "    </tr>\n",
       "    <tr>\n",
       "      <th>1</th>\n",
       "      <td>199680</td>\n",
       "      <td>65</td>\n",
       "      <td>0.779</td>\n",
       "      <td>0.56100</td>\n",
       "      <td>0.714</td>\n",
       "      <td>0.012900</td>\n",
       "      <td>0.112</td>\n",
       "      <td>-6.707</td>\n",
       "      <td>0.0949</td>\n",
       "      <td>89.973</td>\n",
       "      <td>4</td>\n",
       "    </tr>\n",
       "    <tr>\n",
       "      <th>2</th>\n",
       "      <td>209253</td>\n",
       "      <td>63</td>\n",
       "      <td>0.635</td>\n",
       "      <td>0.00643</td>\n",
       "      <td>0.758</td>\n",
       "      <td>0.000000</td>\n",
       "      <td>0.229</td>\n",
       "      <td>-5.772</td>\n",
       "      <td>0.0243</td>\n",
       "      <td>113.002</td>\n",
       "      <td>4</td>\n",
       "    </tr>\n",
       "    <tr>\n",
       "      <th>3</th>\n",
       "      <td>181800</td>\n",
       "      <td>55</td>\n",
       "      <td>0.779</td>\n",
       "      <td>0.03020</td>\n",
       "      <td>0.790</td>\n",
       "      <td>0.000134</td>\n",
       "      <td>0.109</td>\n",
       "      <td>-4.778</td>\n",
       "      <td>0.1110</td>\n",
       "      <td>112.941</td>\n",
       "      <td>4</td>\n",
       "    </tr>\n",
       "    <tr>\n",
       "      <th>4</th>\n",
       "      <td>521693</td>\n",
       "      <td>54</td>\n",
       "      <td>0.865</td>\n",
       "      <td>0.08320</td>\n",
       "      <td>0.394</td>\n",
       "      <td>0.002310</td>\n",
       "      <td>0.302</td>\n",
       "      <td>-12.235</td>\n",
       "      <td>0.0528</td>\n",
       "      <td>115.936</td>\n",
       "      <td>4</td>\n",
       "    </tr>\n",
       "  </tbody>\n",
       "</table>\n",
       "</div>"
      ],
      "text/plain": [
       "   length  popularity  danceability  acousticness  energy  instrumentalness  \\\n",
       "0  148680          32         0.464       0.38800   0.222          0.000000   \n",
       "1  199680          65         0.779       0.56100   0.714          0.012900   \n",
       "2  209253          63         0.635       0.00643   0.758          0.000000   \n",
       "3  181800          55         0.779       0.03020   0.790          0.000134   \n",
       "4  521693          54         0.865       0.08320   0.394          0.002310   \n",
       "\n",
       "   liveness  loudness  speechiness    tempo  time_signature  \n",
       "0     0.125   -11.977       0.0501   77.133               4  \n",
       "1     0.112    -6.707       0.0949   89.973               4  \n",
       "2     0.229    -5.772       0.0243  113.002               4  \n",
       "3     0.109    -4.778       0.1110  112.941               4  \n",
       "4     0.302   -12.235       0.0528  115.936               4  "
      ]
     },
     "execution_count": 13,
     "metadata": {},
     "output_type": "execute_result"
    }
   ],
   "source": [
    "X_train.head()"
   ]
  },
  {
   "cell_type": "code",
   "execution_count": 14,
   "metadata": {},
   "outputs": [
    {
     "data": {
      "text/plain": [
       "0    7103\n",
       "1    7103\n",
       "Name: favorite, dtype: int64"
      ]
     },
     "execution_count": 14,
     "metadata": {},
     "output_type": "execute_result"
    }
   ],
   "source": [
    "y_train.value_counts()"
   ]
  },
  {
   "cell_type": "markdown",
   "metadata": {},
   "source": [
    "Now that the classes in the train set are balanced, the model will be less biased towards a song being a non-favorite and be more accurate on the test data and real life application."
   ]
  },
  {
   "cell_type": "code",
   "execution_count": 15,
   "metadata": {},
   "outputs": [
    {
     "data": {
      "text/html": [
       "<div>\n",
       "<style scoped>\n",
       "    .dataframe tbody tr th:only-of-type {\n",
       "        vertical-align: middle;\n",
       "    }\n",
       "\n",
       "    .dataframe tbody tr th {\n",
       "        vertical-align: top;\n",
       "    }\n",
       "\n",
       "    .dataframe thead th {\n",
       "        text-align: right;\n",
       "    }\n",
       "</style>\n",
       "<table border=\"1\" class=\"dataframe\">\n",
       "  <thead>\n",
       "    <tr style=\"text-align: right;\">\n",
       "      <th></th>\n",
       "      <th>track_id</th>\n",
       "      <th>length</th>\n",
       "      <th>popularity</th>\n",
       "      <th>danceability</th>\n",
       "      <th>acousticness</th>\n",
       "      <th>energy</th>\n",
       "      <th>instrumentalness</th>\n",
       "      <th>liveness</th>\n",
       "      <th>loudness</th>\n",
       "      <th>speechiness</th>\n",
       "      <th>tempo</th>\n",
       "      <th>time_signature</th>\n",
       "      <th>favorite</th>\n",
       "    </tr>\n",
       "  </thead>\n",
       "  <tbody>\n",
       "    <tr>\n",
       "      <th>5178</th>\n",
       "      <td>7KtbZxJU9ZdIyJJ4QMzx66</td>\n",
       "      <td>598070</td>\n",
       "      <td>42</td>\n",
       "      <td>0.805</td>\n",
       "      <td>0.4590</td>\n",
       "      <td>0.7640</td>\n",
       "      <td>0.937000</td>\n",
       "      <td>0.102</td>\n",
       "      <td>-10.983</td>\n",
       "      <td>0.0796</td>\n",
       "      <td>122.008</td>\n",
       "      <td>4</td>\n",
       "      <td>0</td>\n",
       "    </tr>\n",
       "    <tr>\n",
       "      <th>6571</th>\n",
       "      <td>20hVyJfG3arZ4vsuqMKC1V</td>\n",
       "      <td>159866</td>\n",
       "      <td>0</td>\n",
       "      <td>0.316</td>\n",
       "      <td>0.8060</td>\n",
       "      <td>0.4260</td>\n",
       "      <td>0.800000</td>\n",
       "      <td>0.602</td>\n",
       "      <td>-16.993</td>\n",
       "      <td>0.0425</td>\n",
       "      <td>142.291</td>\n",
       "      <td>4</td>\n",
       "      <td>0</td>\n",
       "    </tr>\n",
       "    <tr>\n",
       "      <th>8184</th>\n",
       "      <td>04QpMvP7xpRvKKk13I4HRN</td>\n",
       "      <td>714453</td>\n",
       "      <td>0</td>\n",
       "      <td>0.172</td>\n",
       "      <td>0.9740</td>\n",
       "      <td>0.0654</td>\n",
       "      <td>0.939000</td>\n",
       "      <td>0.245</td>\n",
       "      <td>-23.799</td>\n",
       "      <td>0.0477</td>\n",
       "      <td>114.353</td>\n",
       "      <td>4</td>\n",
       "      <td>0</td>\n",
       "    </tr>\n",
       "    <tr>\n",
       "      <th>2016</th>\n",
       "      <td>6up6wflOSkh1FWDB7OcUQa</td>\n",
       "      <td>303200</td>\n",
       "      <td>43</td>\n",
       "      <td>0.613</td>\n",
       "      <td>0.0316</td>\n",
       "      <td>0.5010</td>\n",
       "      <td>0.001250</td>\n",
       "      <td>0.115</td>\n",
       "      <td>-10.027</td>\n",
       "      <td>0.0286</td>\n",
       "      <td>115.303</td>\n",
       "      <td>4</td>\n",
       "      <td>0</td>\n",
       "    </tr>\n",
       "    <tr>\n",
       "      <th>4344</th>\n",
       "      <td>2GjOk5EmK3njFZPx0aXtm4</td>\n",
       "      <td>175813</td>\n",
       "      <td>42</td>\n",
       "      <td>0.485</td>\n",
       "      <td>0.0539</td>\n",
       "      <td>0.8670</td>\n",
       "      <td>0.000208</td>\n",
       "      <td>0.127</td>\n",
       "      <td>-4.937</td>\n",
       "      <td>0.2240</td>\n",
       "      <td>85.550</td>\n",
       "      <td>4</td>\n",
       "      <td>0</td>\n",
       "    </tr>\n",
       "  </tbody>\n",
       "</table>\n",
       "</div>"
      ],
      "text/plain": [
       "                    track_id  length  popularity  danceability  acousticness  \\\n",
       "5178  7KtbZxJU9ZdIyJJ4QMzx66  598070          42         0.805        0.4590   \n",
       "6571  20hVyJfG3arZ4vsuqMKC1V  159866           0         0.316        0.8060   \n",
       "8184  04QpMvP7xpRvKKk13I4HRN  714453           0         0.172        0.9740   \n",
       "2016  6up6wflOSkh1FWDB7OcUQa  303200          43         0.613        0.0316   \n",
       "4344  2GjOk5EmK3njFZPx0aXtm4  175813          42         0.485        0.0539   \n",
       "\n",
       "      energy  instrumentalness  liveness  loudness  speechiness    tempo  \\\n",
       "5178  0.7640          0.937000     0.102   -10.983       0.0796  122.008   \n",
       "6571  0.4260          0.800000     0.602   -16.993       0.0425  142.291   \n",
       "8184  0.0654          0.939000     0.245   -23.799       0.0477  114.353   \n",
       "2016  0.5010          0.001250     0.115   -10.027       0.0286  115.303   \n",
       "4344  0.8670          0.000208     0.127    -4.937       0.2240   85.550   \n",
       "\n",
       "      time_signature  favorite  \n",
       "5178               4         0  \n",
       "6571               4         0  \n",
       "8184               4         0  \n",
       "2016               4         0  \n",
       "4344               4         0  "
      ]
     },
     "execution_count": 15,
     "metadata": {},
     "output_type": "execute_result"
    }
   ],
   "source": [
    "test_set.head()"
   ]
  },
  {
   "cell_type": "code",
   "execution_count": 16,
   "metadata": {},
   "outputs": [],
   "source": [
    "# Setting test datasets\n",
    "X_test = test_set.drop(columns=['favorite', 'track_id'])\n",
    "y_test = test_set['favorite']"
   ]
  },
  {
   "cell_type": "code",
   "execution_count": 17,
   "metadata": {},
   "outputs": [
    {
     "data": {
      "text/html": [
       "<div>\n",
       "<style scoped>\n",
       "    .dataframe tbody tr th:only-of-type {\n",
       "        vertical-align: middle;\n",
       "    }\n",
       "\n",
       "    .dataframe tbody tr th {\n",
       "        vertical-align: top;\n",
       "    }\n",
       "\n",
       "    .dataframe thead th {\n",
       "        text-align: right;\n",
       "    }\n",
       "</style>\n",
       "<table border=\"1\" class=\"dataframe\">\n",
       "  <thead>\n",
       "    <tr style=\"text-align: right;\">\n",
       "      <th></th>\n",
       "      <th>length</th>\n",
       "      <th>popularity</th>\n",
       "      <th>danceability</th>\n",
       "      <th>acousticness</th>\n",
       "      <th>energy</th>\n",
       "      <th>instrumentalness</th>\n",
       "      <th>liveness</th>\n",
       "      <th>loudness</th>\n",
       "      <th>speechiness</th>\n",
       "      <th>tempo</th>\n",
       "      <th>time_signature</th>\n",
       "    </tr>\n",
       "  </thead>\n",
       "  <tbody>\n",
       "    <tr>\n",
       "      <th>5178</th>\n",
       "      <td>598070</td>\n",
       "      <td>42</td>\n",
       "      <td>0.805</td>\n",
       "      <td>0.4590</td>\n",
       "      <td>0.7640</td>\n",
       "      <td>0.937000</td>\n",
       "      <td>0.102</td>\n",
       "      <td>-10.983</td>\n",
       "      <td>0.0796</td>\n",
       "      <td>122.008</td>\n",
       "      <td>4</td>\n",
       "    </tr>\n",
       "    <tr>\n",
       "      <th>6571</th>\n",
       "      <td>159866</td>\n",
       "      <td>0</td>\n",
       "      <td>0.316</td>\n",
       "      <td>0.8060</td>\n",
       "      <td>0.4260</td>\n",
       "      <td>0.800000</td>\n",
       "      <td>0.602</td>\n",
       "      <td>-16.993</td>\n",
       "      <td>0.0425</td>\n",
       "      <td>142.291</td>\n",
       "      <td>4</td>\n",
       "    </tr>\n",
       "    <tr>\n",
       "      <th>8184</th>\n",
       "      <td>714453</td>\n",
       "      <td>0</td>\n",
       "      <td>0.172</td>\n",
       "      <td>0.9740</td>\n",
       "      <td>0.0654</td>\n",
       "      <td>0.939000</td>\n",
       "      <td>0.245</td>\n",
       "      <td>-23.799</td>\n",
       "      <td>0.0477</td>\n",
       "      <td>114.353</td>\n",
       "      <td>4</td>\n",
       "    </tr>\n",
       "    <tr>\n",
       "      <th>2016</th>\n",
       "      <td>303200</td>\n",
       "      <td>43</td>\n",
       "      <td>0.613</td>\n",
       "      <td>0.0316</td>\n",
       "      <td>0.5010</td>\n",
       "      <td>0.001250</td>\n",
       "      <td>0.115</td>\n",
       "      <td>-10.027</td>\n",
       "      <td>0.0286</td>\n",
       "      <td>115.303</td>\n",
       "      <td>4</td>\n",
       "    </tr>\n",
       "    <tr>\n",
       "      <th>4344</th>\n",
       "      <td>175813</td>\n",
       "      <td>42</td>\n",
       "      <td>0.485</td>\n",
       "      <td>0.0539</td>\n",
       "      <td>0.8670</td>\n",
       "      <td>0.000208</td>\n",
       "      <td>0.127</td>\n",
       "      <td>-4.937</td>\n",
       "      <td>0.2240</td>\n",
       "      <td>85.550</td>\n",
       "      <td>4</td>\n",
       "    </tr>\n",
       "  </tbody>\n",
       "</table>\n",
       "</div>"
      ],
      "text/plain": [
       "      length  popularity  danceability  acousticness  energy  \\\n",
       "5178  598070          42         0.805        0.4590  0.7640   \n",
       "6571  159866           0         0.316        0.8060  0.4260   \n",
       "8184  714453           0         0.172        0.9740  0.0654   \n",
       "2016  303200          43         0.613        0.0316  0.5010   \n",
       "4344  175813          42         0.485        0.0539  0.8670   \n",
       "\n",
       "      instrumentalness  liveness  loudness  speechiness    tempo  \\\n",
       "5178          0.937000     0.102   -10.983       0.0796  122.008   \n",
       "6571          0.800000     0.602   -16.993       0.0425  142.291   \n",
       "8184          0.939000     0.245   -23.799       0.0477  114.353   \n",
       "2016          0.001250     0.115   -10.027       0.0286  115.303   \n",
       "4344          0.000208     0.127    -4.937       0.2240   85.550   \n",
       "\n",
       "      time_signature  \n",
       "5178               4  \n",
       "6571               4  \n",
       "8184               4  \n",
       "2016               4  \n",
       "4344               4  "
      ]
     },
     "execution_count": 17,
     "metadata": {},
     "output_type": "execute_result"
    }
   ],
   "source": [
    "X_test.head()"
   ]
  },
  {
   "cell_type": "code",
   "execution_count": 18,
   "metadata": {},
   "outputs": [
    {
     "data": {
      "text/plain": [
       "0    1780\n",
       "1       7\n",
       "Name: favorite, dtype: int64"
      ]
     },
     "execution_count": 18,
     "metadata": {},
     "output_type": "execute_result"
    }
   ],
   "source": [
    "y_test.value_counts()"
   ]
  },
  {
   "cell_type": "markdown",
   "metadata": {},
   "source": [
    "## Testing models"
   ]
  },
  {
   "cell_type": "code",
   "execution_count": 19,
   "metadata": {},
   "outputs": [
    {
     "name": "stdout",
     "output_type": "stream",
     "text": [
      "0.6360453615017375\n",
      "Wall time: 713 ms\n"
     ]
    }
   ],
   "source": [
    "%%time\n",
    "# Logistic Regression\n",
    "lr = LogisticRegression(solver='lbfgs', max_iter=400).fit(X_train, y_train)\n",
    "lr_scores = cross_val_score(lr, X_train, y_train, cv=10, scoring=\"f1\")\n",
    "print(np.mean(lr_scores))"
   ]
  },
  {
   "cell_type": "code",
   "execution_count": 20,
   "metadata": {},
   "outputs": [
    {
     "data": {
      "text/plain": [
       "<sklearn.metrics._plot.confusion_matrix.ConfusionMatrixDisplay at 0x1dc8a326160>"
      ]
     },
     "execution_count": 20,
     "metadata": {},
     "output_type": "execute_result"
    },
    {
     "data": {
      "image/png": "[encoded data removed]",
      "text/plain": [
       "<Figure size 432x288 with 2 Axes>"
      ]
     },
     "metadata": {
      "needs_background": "light"
     },
     "output_type": "display_data"
    }
   ],
   "source": [
    "# Logistic Regression confusion matrix\n",
    "lr_preds = lr.predict(X_train)\n",
    "plot_confusion_matrix(lr, X_train, y_train)"
   ]
  },
  {
   "cell_type": "code",
   "execution_count": 21,
   "metadata": {
    "tags": []
   },
   "outputs": [
    {
     "data": {
      "text/plain": [
       "{'max_depth': 30}"
      ]
     },
     "execution_count": 21,
     "metadata": {},
     "output_type": "execute_result"
    }
   ],
   "source": [
    "# Hyperparameter optimization for Decision Tree Classifier\n",
    "parameters = {\n",
    "    'max_depth':[3, 4, 5, 6, 10, 15,20,30],\n",
    "}\n",
    "dtc = Pipeline([('CV',GridSearchCV(DecisionTreeClassifier(), parameters, cv = 5))])\n",
    "dtc.fit(X_train, y_train)\n",
    "dtc.named_steps['CV'].best_params_"
   ]
  },
  {
   "cell_type": "code",
   "execution_count": 22,
   "metadata": {},
   "outputs": [
    {
     "name": "stdout",
     "output_type": "stream",
     "text": [
      "Wall time: 2.61 s\n"
     ]
    },
    {
     "data": {
      "text/plain": [
       "0.980058015524833"
      ]
     },
     "execution_count": 22,
     "metadata": {},
     "output_type": "execute_result"
    }
   ],
   "source": [
    "%%time\n",
    "# Decision Tree Classifier\n",
    "dt = DecisionTreeClassifier(max_depth=30).fit(X_train, y_train)\n",
    "dt_scores = cross_val_score(dt, X_train, y_train, cv=10, scoring=\"f1\")\n",
    "np.mean(dt_scores)"
   ]
  },
  {
   "cell_type": "code",
   "execution_count": 23,
   "metadata": {},
   "outputs": [
    {
     "data": {
      "text/plain": [
       "<sklearn.metrics._plot.confusion_matrix.ConfusionMatrixDisplay at 0x1dc89a25bb0>"
      ]
     },
     "execution_count": 23,
     "metadata": {},
     "output_type": "execute_result"
    },
    {
     "data": {
      "image/png": "[encoded data removed]",
      "text/plain": [
       "<Figure size 432x288 with 2 Axes>"
      ]
     },
     "metadata": {
      "needs_background": "light"
     },
     "output_type": "display_data"
    }
   ],
   "source": [
    "# Decision Tree Classifier confusion matrix\n",
    "plot_confusion_matrix(dt, X_train, y_train)"
   ]
  },
  {
   "cell_type": "code",
   "execution_count": 24,
   "metadata": {},
   "outputs": [
    {
     "name": "stdout",
     "output_type": "stream",
     "text": [
      "Wall time: 27.7 s\n"
     ]
    },
    {
     "data": {
      "text/plain": [
       "{'max_depth': 20, 'n_estimators': 30}"
      ]
     },
     "execution_count": 24,
     "metadata": {},
     "output_type": "execute_result"
    }
   ],
   "source": [
    "%%time\n",
    "# Hyperparameter optimization of RandomForestClassifier\n",
    "parameters = {\n",
    "    'max_depth':[3, 6,12,15,20],\n",
    "    'n_estimators':[10, 20,30]\n",
    "}\n",
    "clf = Pipeline([('CV',GridSearchCV(RandomForestClassifier(), parameters, cv = 5))])\n",
    "clf.fit(X_train, y_train)\n",
    "clf.named_steps['CV'].best_params_"
   ]
  },
  {
   "cell_type": "code",
   "execution_count": 25,
   "metadata": {},
   "outputs": [
    {
     "name": "stdout",
     "output_type": "stream",
     "text": [
      "Wall time: 3.38 s\n"
     ]
    },
    {
     "data": {
      "text/plain": [
       "0.9808606297959759"
      ]
     },
     "execution_count": 25,
     "metadata": {},
     "output_type": "execute_result"
    }
   ],
   "source": [
    "%%time\n",
    "# RandomForestClassifier\n",
    "rf = Pipeline([('rf', RandomForestClassifier(n_estimators = 10, max_depth = 20).fit(X_train, y_train))])\n",
    "rf_scores = cross_val_score(rf, X_train, y_train, cv=10, scoring=\"f1\")\n",
    "np.mean(rf_scores)"
   ]
  },
  {
   "cell_type": "code",
   "execution_count": 26,
   "metadata": {},
   "outputs": [
    {
     "data": {
      "text/plain": [
       "<sklearn.metrics._plot.confusion_matrix.ConfusionMatrixDisplay at 0x1dc8a5535b0>"
      ]
     },
     "execution_count": 26,
     "metadata": {},
     "output_type": "execute_result"
    },
    {
     "data": {
      "image/png": "[encoded data removed]",
      "text/plain": [
       "<Figure size 432x288 with 2 Axes>"
      ]
     },
     "metadata": {
      "needs_background": "light"
     },
     "output_type": "display_data"
    }
   ],
   "source": [
    "plot_confusion_matrix(rf, X_train, y_train)"
   ]
  },
  {
   "cell_type": "markdown",
   "metadata": {},
   "source": [
    "### Using algorithm on test data"
   ]
  },
  {
   "cell_type": "code",
   "execution_count": 27,
   "metadata": {},
   "outputs": [
    {
     "data": {
      "text/plain": [
       "0    1780\n",
       "1       7\n",
       "Name: favorite, dtype: int64"
      ]
     },
     "execution_count": 27,
     "metadata": {},
     "output_type": "execute_result"
    }
   ],
   "source": [
    "# Checking for imbalance\n",
    "y_test.value_counts()"
   ]
  },
  {
   "cell_type": "code",
   "execution_count": 28,
   "metadata": {},
   "outputs": [
    {
     "name": "stdout",
     "output_type": "stream",
     "text": [
      "97.09009513150532\n"
     ]
    }
   ],
   "source": [
    "# Building a pipeline to use on regular data\n",
    "from sklearn.pipeline import make_pipeline\n",
    "from sklearn.preprocessing import StandardScaler\n",
    "\n",
    "pipe = make_pipeline(StandardScaler(), DecisionTreeClassifier(max_depth=30))\n",
    "pipe.fit(X_train, y_train)  # apply scaling on training data\n",
    "Pipeline(steps=[('standardscaler', StandardScaler()),\n",
    "                ('dt', DecisionTreeClassifier(max_depth=30))])\n",
    "\n",
    "print(pipe.score(X_test, y_test)*100)"
   ]
  },
  {
   "cell_type": "code",
   "execution_count": 29,
   "metadata": {},
   "outputs": [
    {
     "data": {
      "text/plain": [
       "<sklearn.metrics._plot.confusion_matrix.ConfusionMatrixDisplay at 0x1dc8a40bb20>"
      ]
     },
     "execution_count": 29,
     "metadata": {},
     "output_type": "execute_result"
    },
    {
     "data": {
      "image/png": "[encoded data removed]",
      "text/plain": [
       "<Figure size 432x288 with 2 Axes>"
      ]
     },
     "metadata": {
      "needs_background": "light"
     },
     "output_type": "display_data"
    }
   ],
   "source": [
    "plot_confusion_matrix(dt, X_test, y_test)"
   ]
  },
  {
   "cell_type": "markdown",
   "metadata": {},
   "source": [
    "## Predicting songs and saving to dataset"
   ]
  },
  {
   "cell_type": "code",
   "execution_count": 30,
   "metadata": {},
   "outputs": [],
   "source": [
    "# Reloading the original dataframe to test the model on\n",
    "df = pd.read_csv('encoded_playlist_songs.csv')"
   ]
  },
  {
   "cell_type": "code",
   "execution_count": 31,
   "metadata": {},
   "outputs": [
    {
     "data": {
      "text/html": [
       "<div>\n",
       "<style scoped>\n",
       "    .dataframe tbody tr th:only-of-type {\n",
       "        vertical-align: middle;\n",
       "    }\n",
       "\n",
       "    .dataframe tbody tr th {\n",
       "        vertical-align: top;\n",
       "    }\n",
       "\n",
       "    .dataframe thead th {\n",
       "        text-align: right;\n",
       "    }\n",
       "</style>\n",
       "<table border=\"1\" class=\"dataframe\">\n",
       "  <thead>\n",
       "    <tr style=\"text-align: right;\">\n",
       "      <th></th>\n",
       "      <th>track_id</th>\n",
       "      <th>length</th>\n",
       "      <th>popularity</th>\n",
       "      <th>danceability</th>\n",
       "      <th>acousticness</th>\n",
       "      <th>energy</th>\n",
       "      <th>instrumentalness</th>\n",
       "      <th>liveness</th>\n",
       "      <th>loudness</th>\n",
       "      <th>speechiness</th>\n",
       "      <th>tempo</th>\n",
       "      <th>time_signature</th>\n",
       "      <th>favorite</th>\n",
       "    </tr>\n",
       "  </thead>\n",
       "  <tbody>\n",
       "    <tr>\n",
       "      <th>0</th>\n",
       "      <td>7MAibcTli4IisCtbHKrGMh</td>\n",
       "      <td>242096</td>\n",
       "      <td>90</td>\n",
       "      <td>0.586</td>\n",
       "      <td>0.1820</td>\n",
       "      <td>0.616</td>\n",
       "      <td>0.000000</td>\n",
       "      <td>0.0927</td>\n",
       "      <td>-7.964</td>\n",
       "      <td>0.0324</td>\n",
       "      <td>148.088</td>\n",
       "      <td>4</td>\n",
       "      <td>0</td>\n",
       "    </tr>\n",
       "    <tr>\n",
       "      <th>1</th>\n",
       "      <td>5QO79kh1waicV47BqGRL3g</td>\n",
       "      <td>215626</td>\n",
       "      <td>97</td>\n",
       "      <td>0.680</td>\n",
       "      <td>0.0212</td>\n",
       "      <td>0.826</td>\n",
       "      <td>0.000012</td>\n",
       "      <td>0.5430</td>\n",
       "      <td>-5.487</td>\n",
       "      <td>0.0309</td>\n",
       "      <td>118.051</td>\n",
       "      <td>4</td>\n",
       "      <td>0</td>\n",
       "    </tr>\n",
       "    <tr>\n",
       "      <th>2</th>\n",
       "      <td>1diS6nkxMQc3wwC4G1j0bh</td>\n",
       "      <td>165506</td>\n",
       "      <td>88</td>\n",
       "      <td>0.722</td>\n",
       "      <td>0.0319</td>\n",
       "      <td>0.588</td>\n",
       "      <td>0.000000</td>\n",
       "      <td>0.1830</td>\n",
       "      <td>-5.932</td>\n",
       "      <td>0.0544</td>\n",
       "      <td>134.010</td>\n",
       "      <td>4</td>\n",
       "      <td>0</td>\n",
       "    </tr>\n",
       "    <tr>\n",
       "      <th>3</th>\n",
       "      <td>4u4NyuceXP7Uzh7XFJKCr1</td>\n",
       "      <td>170813</td>\n",
       "      <td>89</td>\n",
       "      <td>0.658</td>\n",
       "      <td>0.0106</td>\n",
       "      <td>0.634</td>\n",
       "      <td>0.000000</td>\n",
       "      <td>0.1320</td>\n",
       "      <td>-5.797</td>\n",
       "      <td>0.0413</td>\n",
       "      <td>139.980</td>\n",
       "      <td>4</td>\n",
       "      <td>0</td>\n",
       "    </tr>\n",
       "    <tr>\n",
       "      <th>4</th>\n",
       "      <td>3Ofmpyhv5UAQ70mENzB277</td>\n",
       "      <td>132780</td>\n",
       "      <td>94</td>\n",
       "      <td>0.778</td>\n",
       "      <td>0.1750</td>\n",
       "      <td>0.695</td>\n",
       "      <td>0.000000</td>\n",
       "      <td>0.1500</td>\n",
       "      <td>-6.865</td>\n",
       "      <td>0.0913</td>\n",
       "      <td>149.996</td>\n",
       "      <td>4</td>\n",
       "      <td>0</td>\n",
       "    </tr>\n",
       "  </tbody>\n",
       "</table>\n",
       "</div>"
      ],
      "text/plain": [
       "                 track_id  length  popularity  danceability  acousticness  \\\n",
       "0  7MAibcTli4IisCtbHKrGMh  242096          90         0.586        0.1820   \n",
       "1  5QO79kh1waicV47BqGRL3g  215626          97         0.680        0.0212   \n",
       "2  1diS6nkxMQc3wwC4G1j0bh  165506          88         0.722        0.0319   \n",
       "3  4u4NyuceXP7Uzh7XFJKCr1  170813          89         0.658        0.0106   \n",
       "4  3Ofmpyhv5UAQ70mENzB277  132780          94         0.778        0.1750   \n",
       "\n",
       "   energy  instrumentalness  liveness  loudness  speechiness    tempo  \\\n",
       "0   0.616          0.000000    0.0927    -7.964       0.0324  148.088   \n",
       "1   0.826          0.000012    0.5430    -5.487       0.0309  118.051   \n",
       "2   0.588          0.000000    0.1830    -5.932       0.0544  134.010   \n",
       "3   0.634          0.000000    0.1320    -5.797       0.0413  139.980   \n",
       "4   0.695          0.000000    0.1500    -6.865       0.0913  149.996   \n",
       "\n",
       "   time_signature  favorite  \n",
       "0               4         0  \n",
       "1               4         0  \n",
       "2               4         0  \n",
       "3               4         0  \n",
       "4               4         0  "
      ]
     },
     "execution_count": 31,
     "metadata": {},
     "output_type": "execute_result"
    }
   ],
   "source": [
    "df.head()"
   ]
  },
  {
   "cell_type": "code",
   "execution_count": 32,
   "metadata": {},
   "outputs": [],
   "source": [
    "# Predicting if a song is a favorite\n",
    "prob_preds = pipe.predict_proba(df.drop(['favorite','track_id'], axis=1))\n",
    "threshold = 0.30 # define threshold here\n",
    "preds = [1 if prob_preds[i][1]> threshold else 0 for i in range(len(prob_preds))]\n",
    "df['prediction'] = preds"
   ]
  },
  {
   "cell_type": "code",
   "execution_count": 33,
   "metadata": {},
   "outputs": [
    {
     "data": {
      "text/plain": [
       "0    8764\n",
       "1     119\n",
       "Name: prediction, dtype: int64"
      ]
     },
     "execution_count": 33,
     "metadata": {},
     "output_type": "execute_result"
    }
   ],
   "source": [
    "df['prediction'].value_counts()"
   ]
  },
  {
   "cell_type": "markdown",
   "metadata": {},
   "source": [
    "## Building the playlist from recommended songs"
   ]
  },
  {
   "cell_type": "code",
   "execution_count": 34,
   "metadata": {},
   "outputs": [],
   "source": [
    "import spotipy\n",
    "import spotipy.util as util\n",
    "from spotipy.oauth2 import SpotifyClientCredentials\n",
    "from spotipy import oauth2"
   ]
  },
  {
   "cell_type": "code",
   "execution_count": 35,
   "metadata": {},
   "outputs": [],
   "source": [
    "# Insert your Spotify username and the credentials that you obtained from spotify developer\n",
    "cid = 'bb34b741629d4173bf4bffa6417a2270'\n",
    "secret = 'c0c94901909e42e483aac0680375c441'\n",
    "redirect_uri='http://localhost:7777/callback'\n",
    "username = 'y1spdovdjdvlieulko3su8e2f'"
   ]
  },
  {
   "cell_type": "code",
   "execution_count": 36,
   "metadata": {},
   "outputs": [],
   "source": [
    "# Once the Authorisation is complete, we just need to `sp` to call the APIs\n",
    "scope = 'user-top-read playlist-modify-private playlist-modify-public'\n",
    "token = util.prompt_for_user_token(username, scope, client_id=cid, client_secret=secret, redirect_uri=redirect_uri)\n",
    "\n",
    "if token:\n",
    "    sp = spotipy.Spotify(auth=token)\n",
    "else:\n",
    "    print(\"Can't get token for\", username)"
   ]
  },
  {
   "cell_type": "code",
   "execution_count": 37,
   "metadata": {},
   "outputs": [],
   "source": [
    "# Creating a function that builds a playlist in the user's spotify account\n",
    "def create_playlist(sp, username, playlist_name, playlist_description):\n",
    "    playlists = sp.user_playlist_create(username, playlist_name, description = playlist_description)"
   ]
  },
  {
   "cell_type": "code",
   "execution_count": 38,
   "metadata": {},
   "outputs": [],
   "source": [
    "create_playlist(sp, username, 'Project Pllaylist', 'This playlist was created using python!')"
   ]
  },
  {
   "cell_type": "code",
   "execution_count": 39,
   "metadata": {},
   "outputs": [],
   "source": [
    "# Function to check if the playlist was created successfully\n",
    "def fetch_playlists(sp, username):\n",
    "    \"\"\"\n",
    "    Returns the user's playlists.\n",
    "    \"\"\"\n",
    "        \n",
    "    id = []\n",
    "    name = []\n",
    "    num_tracks = []\n",
    "    \n",
    "    # Make the API request\n",
    "    playlists = sp.user_playlists(username)\n",
    "    for playlist in playlists['items']:\n",
    "        id.append(playlist['id'])\n",
    "        name.append(playlist['name'])\n",
    "        num_tracks.append(playlist['tracks']['total'])\n",
    "\n",
    "    # Create the final df   \n",
    "    df_playlists = pd.DataFrame({\"id\":id, \"name\": name, \"#tracks\": num_tracks})\n",
    "    return df_playlists"
   ]
  },
  {
   "cell_type": "code",
   "execution_count": 40,
   "metadata": {},
   "outputs": [
    {
     "data": {
      "text/html": [
       "<div>\n",
       "<style scoped>\n",
       "    .dataframe tbody tr th:only-of-type {\n",
       "        vertical-align: middle;\n",
       "    }\n",
       "\n",
       "    .dataframe tbody tr th {\n",
       "        vertical-align: top;\n",
       "    }\n",
       "\n",
       "    .dataframe thead th {\n",
       "        text-align: right;\n",
       "    }\n",
       "</style>\n",
       "<table border=\"1\" class=\"dataframe\">\n",
       "  <thead>\n",
       "    <tr style=\"text-align: right;\">\n",
       "      <th></th>\n",
       "      <th>id</th>\n",
       "      <th>name</th>\n",
       "      <th>#tracks</th>\n",
       "    </tr>\n",
       "  </thead>\n",
       "  <tbody>\n",
       "    <tr>\n",
       "      <th>0</th>\n",
       "      <td>1KMXMCgYskgF2jYcLnRkMf</td>\n",
       "      <td>Project Pllaylist</td>\n",
       "      <td>0</td>\n",
       "    </tr>\n",
       "    <tr>\n",
       "      <th>1</th>\n",
       "      <td>1KgUIRfQMcj7eEGYmbqYa8</td>\n",
       "      <td>YETI Kaun Aur Kahan Se Aate Hai? Sach Jaano! f...</td>\n",
       "      <td>1</td>\n",
       "    </tr>\n",
       "    <tr>\n",
       "      <th>2</th>\n",
       "      <td>7flXG8Hk8aRFD68X9G2Wko</td>\n",
       "      <td>The Fight</td>\n",
       "      <td>11</td>\n",
       "    </tr>\n",
       "  </tbody>\n",
       "</table>\n",
       "</div>"
      ],
      "text/plain": [
       "                       id                                               name  \\\n",
       "0  1KMXMCgYskgF2jYcLnRkMf                                  Project Pllaylist   \n",
       "1  1KgUIRfQMcj7eEGYmbqYa8  YETI Kaun Aur Kahan Se Aate Hai? Sach Jaano! f...   \n",
       "2  7flXG8Hk8aRFD68X9G2Wko                                          The Fight   \n",
       "\n",
       "   #tracks  \n",
       "0        0  \n",
       "1        1  \n",
       "2       11  "
      ]
     },
     "execution_count": 40,
     "metadata": {},
     "output_type": "execute_result"
    }
   ],
   "source": [
    "fetch_playlists(sp,username).head()"
   ]
  },
  {
   "cell_type": "code",
   "execution_count": 41,
   "metadata": {},
   "outputs": [],
   "source": [
    "# Getting the playlist ID of the most recently made playlist so we can add songs to it later\n",
    "playlist_id = fetch_playlists(sp,username)['id'][0]"
   ]
  },
  {
   "cell_type": "code",
   "execution_count": 42,
   "metadata": {},
   "outputs": [],
   "source": [
    "# Function to add selected songs to playlist\n",
    "def enrich_playlist(sp, username, playlist_id, playlist_tracks):\n",
    "    index = 0\n",
    "    results = []\n",
    "    \n",
    "    while index < len(playlist_tracks):\n",
    "        results += sp.user_playlist_add_tracks(username, playlist_id, tracks = playlist_tracks[index:index + 50])\n",
    "        index += 50"
   ]
  },
  {
   "cell_type": "code",
   "execution_count": 43,
   "metadata": {},
   "outputs": [],
   "source": [
    "# Adding songs to playlist\n",
    "list_track = df.loc[df['prediction']  == 1]['track_id']\n",
    "enrich_playlist(sp, username, playlist_id, list_track)"
   ]
  },
  {
   "cell_type": "markdown",
   "metadata": {},
   "source": [
    "Now check your Spotify playlists; you'll see a playlist titled 'Your New Jams'. Enjoy!"
   ]
  }
 ],
 "metadata": {
  "kernelspec": {
   "display_name": "Python 3.9.2 64-bit ('spotify_recommender': conda)",
   "metadata": {
    "interpreter": {
     "hash": "2fce50c966ce3004344c1d0428fb8658cb2ec3c9dafd73e971076d9a0c6eeeea"
    }
   },
   "name": "python3"
  },
  "language_info": {
   "codemirror_mode": {
    "name": "ipython",
    "version": 3
   },
   "file_extension": ".py",
   "mimetype": "text/x-python",
   "name": "python",
   "nbconvert_exporter": "python",
   "pygments_lexer": "ipython3",
   "version": "3.8.0"
  },
  "orig_nbformat": 2
 },
 "nbformat": 4,
 "nbformat_minor": 2
}
